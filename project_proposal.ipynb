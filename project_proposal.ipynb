{
 "cells": [
  {
   "cell_type": "markdown",
   "id": "798b3a05-ba7f-47db-8a20-3d966d737e8f",
   "metadata": {},
   "source": [
    "Project proposal\n",
    "Reqs:\n",
    "\n",
    "**Specific expectations for the proposal:**\n",
    "\n",
    "Each group is expected to prepare a 1 page (max 500 words) written proposal that identifies the dataset they plan to work on, as well as the question they would like to answer using that dataset for their group project. The proposal should be done in a Jupyter notebook, and then submitted both as an .html file (File -> Download As -> HTML) and an .ipynb file that is reproducible (i.e. works and runs without any additional files.)\n",
    "\n",
    "Each proposal should include the following sections:\n",
    "\n",
    "**Title**a\n",
    "\n",
    "**Introduction:**\n",
    "\n",
    "Sleep is a fundamental aspect of human life and is critical to physical and mental health. However, many people suffer from sleep disorders, which involve problems with the quality, timing, and amount of sleep. The two most common sleep disorders are sleep apnea, where breathing frequently stops during sleep, and insomnia, where people have difficulty falling and staying asleep. Sleep disorders can be influenced by lifestyle and are often comorbid with chronic health disorders.\n",
    "\n",
    "In our project, we will utilise the Sleep Health and Lifestyle Dataset. This dataset is a collection of information pertaining to sleep, lifestyle factors, cardiovascular health, and sleep disorders. Using the dataset, we aim to determine: “How can lifestyle and physiological measures be used to determine the absence or presence of sleep disorders?” \n",
    "\n",
    "**Preliminary exploratory data analysis:**\n",
    "- Demonstrate that the dataset can be read from the web into R \n",
    "- Clean and wrangle your data into a tidy format\n",
    "- Using only training data, summarize the data in at least one table (this is exploratory data analysis). An example of a useful table could be one that reports the number of observations in each class, the means of the predictor variables you plan to use in your analysis and how many rows have missing data. \n",
    "- Using only training data, visualize the data with at least one plot relevant to the analysis you plan to do (this is exploratory data analysis). An example of a useful visualization could be one that compares the distributions of each of the predictor variables you plan to use in your analysis.\n",
    "\n",
    "**Methods:**\n",
    "- Explain how you will conduct either your data analysis and which variables/columns you will use. Note - you do not need to use all variables/columns that exist in the raw data set. In fact, that's often not a good idea. For each variable think: is this a useful variable for prediction?\n",
    "- Describe at least one way that you will visualize the results\n",
    "\n",
    "\n",
    "**Expected outcomes and significance:**\n",
    "- What do you expect to find?\n",
    "- What impact could such findings have?\n",
    "- What future questions could this lead to?\n",
    "\n",
    "Please submit your group project proposal. Only one member of your team needs to submit. "
   ]
  },
  {
   "cell_type": "code",
   "execution_count": 37,
   "id": "b9f120f0-83ec-41cb-ae06-8f3bbe3f9d76",
   "metadata": {},
   "outputs": [
    {
     "name": "stderr",
     "output_type": "stream",
     "text": [
      "\u001b[1mRows: \u001b[22m\u001b[34m748\u001b[39m \u001b[1mColumns: \u001b[22m\u001b[34m13\u001b[39m\n",
      "\u001b[36m──\u001b[39m \u001b[1mColumn specification\u001b[22m \u001b[36m────────────────────────────────────────────────────────\u001b[39m\n",
      "\u001b[1mDelimiter:\u001b[22m \",\"\n",
      "\u001b[31mchr\u001b[39m (5): Gender, Occupation, BMI Category, Blood Pressure, Sleep Disorder\n",
      "\u001b[32mdbl\u001b[39m (8): Person ID, Age, Sleep Duration, Quality of Sleep, Physical Activity...\n",
      "\n",
      "\u001b[36mℹ\u001b[39m Use `spec()` to retrieve the full column specification for this data.\n",
      "\u001b[36mℹ\u001b[39m Specify the column types or set `show_col_types = FALSE` to quiet this message.\n"
     ]
    }
   ],
   "source": [
    "library(tidyverse)\n",
    "sleep_data <- read_csv(\"Sleep_health_and_lifestyle_dataset.csv\", skip = 1)"
   ]
  },
  {
   "cell_type": "code",
   "execution_count": 38,
   "id": "eb5db512-62e2-46f0-90ef-102721cadea6",
   "metadata": {},
   "outputs": [],
   "source": [
    "colnames(sleep_data) <- make.names(colnames(sleep_data))"
   ]
  },
  {
   "cell_type": "code",
   "execution_count": 39,
   "id": "c8b8a399-bb3d-4658-83ed-ae551905864f",
   "metadata": {},
   "outputs": [],
   "source": [
    "sleep_data <- na.omit(sleep_data)"
   ]
  },
  {
   "cell_type": "code",
   "execution_count": 40,
   "id": "ed5fe0e6-b45c-4326-bc0e-3d7d1e3f99bb",
   "metadata": {},
   "outputs": [],
   "source": [
    "sleep_data <- separate(sleep_data,\n",
    "    col = Blood.Pressure,\n",
    "    into = c(\"systolic.bp\", \"diastolic.bp\"), #character vector of new column names\n",
    "    sep = \"/\", #e.g. \"/\"\n",
    "    convert = TRUE) "
   ]
  },
  {
   "cell_type": "code",
   "execution_count": 35,
   "id": "cc0f0bf4-da0a-4473-bf11-91bc34ed7719",
   "metadata": {},
   "outputs": [
    {
     "data": {
      "text/html": [
       "<table class=\"dataframe\">\n",
       "<caption>A tibble: 6 × 12</caption>\n",
       "<thead>\n",
       "\t<tr><th scope=col>Person.ID</th><th scope=col>Age</th><th scope=col>Sleep.Duration</th><th scope=col>Quality.of.Sleep</th><th scope=col>Physical.Activity.Level</th><th scope=col>Stress.Level</th><th scope=col>BMI.Category</th><th scope=col>systolic.bp</th><th scope=col>diastolic.bp</th><th scope=col>Heart.Rate</th><th scope=col>Daily.Steps</th><th scope=col>Sleep.Disorder</th></tr>\n",
       "\t<tr><th scope=col>&lt;dbl&gt;</th><th scope=col>&lt;dbl&gt;</th><th scope=col>&lt;dbl&gt;</th><th scope=col>&lt;dbl&gt;</th><th scope=col>&lt;dbl&gt;</th><th scope=col>&lt;dbl&gt;</th><th scope=col>&lt;chr&gt;</th><th scope=col>&lt;int&gt;</th><th scope=col>&lt;int&gt;</th><th scope=col>&lt;dbl&gt;</th><th scope=col>&lt;dbl&gt;</th><th scope=col>&lt;chr&gt;</th></tr>\n",
       "</thead>\n",
       "<tbody>\n",
       "\t<tr><td>1</td><td>27</td><td>6.1</td><td>6</td><td>42</td><td>6</td><td>Overweight</td><td>126</td><td>83</td><td>77</td><td> 4200</td><td>None       </td></tr>\n",
       "\t<tr><td>2</td><td>28</td><td>6.2</td><td>6</td><td>60</td><td>8</td><td>Normal    </td><td>125</td><td>80</td><td>75</td><td>10000</td><td>None       </td></tr>\n",
       "\t<tr><td>3</td><td>28</td><td>6.2</td><td>6</td><td>60</td><td>8</td><td>Normal    </td><td>125</td><td>80</td><td>75</td><td>10000</td><td>None       </td></tr>\n",
       "\t<tr><td>4</td><td>28</td><td>5.9</td><td>4</td><td>30</td><td>8</td><td>Obese     </td><td>140</td><td>90</td><td>85</td><td> 3000</td><td>Sleep Apnea</td></tr>\n",
       "\t<tr><td>5</td><td>28</td><td>5.9</td><td>4</td><td>30</td><td>8</td><td>Obese     </td><td>140</td><td>90</td><td>85</td><td> 3000</td><td>Sleep Apnea</td></tr>\n",
       "\t<tr><td>6</td><td>28</td><td>5.9</td><td>4</td><td>30</td><td>8</td><td>Obese     </td><td>140</td><td>90</td><td>85</td><td> 3000</td><td>Insomnia   </td></tr>\n",
       "</tbody>\n",
       "</table>\n"
      ],
      "text/latex": [
       "A tibble: 6 × 12\n",
       "\\begin{tabular}{llllllllllll}\n",
       " Person.ID & Age & Sleep.Duration & Quality.of.Sleep & Physical.Activity.Level & Stress.Level & BMI.Category & systolic.bp & diastolic.bp & Heart.Rate & Daily.Steps & Sleep.Disorder\\\\\n",
       " <dbl> & <dbl> & <dbl> & <dbl> & <dbl> & <dbl> & <chr> & <int> & <int> & <dbl> & <dbl> & <chr>\\\\\n",
       "\\hline\n",
       "\t 1 & 27 & 6.1 & 6 & 42 & 6 & Overweight & 126 & 83 & 77 &  4200 & None       \\\\\n",
       "\t 2 & 28 & 6.2 & 6 & 60 & 8 & Normal     & 125 & 80 & 75 & 10000 & None       \\\\\n",
       "\t 3 & 28 & 6.2 & 6 & 60 & 8 & Normal     & 125 & 80 & 75 & 10000 & None       \\\\\n",
       "\t 4 & 28 & 5.9 & 4 & 30 & 8 & Obese      & 140 & 90 & 85 &  3000 & Sleep Apnea\\\\\n",
       "\t 5 & 28 & 5.9 & 4 & 30 & 8 & Obese      & 140 & 90 & 85 &  3000 & Sleep Apnea\\\\\n",
       "\t 6 & 28 & 5.9 & 4 & 30 & 8 & Obese      & 140 & 90 & 85 &  3000 & Insomnia   \\\\\n",
       "\\end{tabular}\n"
      ],
      "text/markdown": [
       "\n",
       "A tibble: 6 × 12\n",
       "\n",
       "| Person.ID &lt;dbl&gt; | Age &lt;dbl&gt; | Sleep.Duration &lt;dbl&gt; | Quality.of.Sleep &lt;dbl&gt; | Physical.Activity.Level &lt;dbl&gt; | Stress.Level &lt;dbl&gt; | BMI.Category &lt;chr&gt; | systolic.bp &lt;int&gt; | diastolic.bp &lt;int&gt; | Heart.Rate &lt;dbl&gt; | Daily.Steps &lt;dbl&gt; | Sleep.Disorder &lt;chr&gt; |\n",
       "|---|---|---|---|---|---|---|---|---|---|---|---|\n",
       "| 1 | 27 | 6.1 | 6 | 42 | 6 | Overweight | 126 | 83 | 77 |  4200 | None        |\n",
       "| 2 | 28 | 6.2 | 6 | 60 | 8 | Normal     | 125 | 80 | 75 | 10000 | None        |\n",
       "| 3 | 28 | 6.2 | 6 | 60 | 8 | Normal     | 125 | 80 | 75 | 10000 | None        |\n",
       "| 4 | 28 | 5.9 | 4 | 30 | 8 | Obese      | 140 | 90 | 85 |  3000 | Sleep Apnea |\n",
       "| 5 | 28 | 5.9 | 4 | 30 | 8 | Obese      | 140 | 90 | 85 |  3000 | Sleep Apnea |\n",
       "| 6 | 28 | 5.9 | 4 | 30 | 8 | Obese      | 140 | 90 | 85 |  3000 | Insomnia    |\n",
       "\n"
      ],
      "text/plain": [
       "  Person.ID Age Sleep.Duration Quality.of.Sleep Physical.Activity.Level\n",
       "1 1         27  6.1            6                42                     \n",
       "2 2         28  6.2            6                60                     \n",
       "3 3         28  6.2            6                60                     \n",
       "4 4         28  5.9            4                30                     \n",
       "5 5         28  5.9            4                30                     \n",
       "6 6         28  5.9            4                30                     \n",
       "  Stress.Level BMI.Category systolic.bp diastolic.bp Heart.Rate Daily.Steps\n",
       "1 6            Overweight   126         83           77          4200      \n",
       "2 8            Normal       125         80           75         10000      \n",
       "3 8            Normal       125         80           75         10000      \n",
       "4 8            Obese        140         90           85          3000      \n",
       "5 8            Obese        140         90           85          3000      \n",
       "6 8            Obese        140         90           85          3000      \n",
       "  Sleep.Disorder\n",
       "1 None          \n",
       "2 None          \n",
       "3 None          \n",
       "4 Sleep Apnea   \n",
       "5 Sleep Apnea   \n",
       "6 Insomnia      "
      ]
     },
     "metadata": {},
     "output_type": "display_data"
    }
   ],
   "source": [
    "sleep_data_2 <- sleep_data |>\n",
    "    select(-Gender, -Occupation)\n",
    "head(sleep_data_2)"
   ]
  },
  {
   "cell_type": "code",
   "execution_count": null,
   "id": "bed95030-43ba-4356-9b35-fd85ce28121a",
   "metadata": {},
   "outputs": [],
   "source": []
  }
 ],
 "metadata": {
  "kernelspec": {
   "display_name": "R",
   "language": "R",
   "name": "ir"
  },
  "language_info": {
   "codemirror_mode": "r",
   "file_extension": ".r",
   "mimetype": "text/x-r-source",
   "name": "R",
   "pygments_lexer": "r",
   "version": "4.1.3"
  }
 },
 "nbformat": 4,
 "nbformat_minor": 5
}
