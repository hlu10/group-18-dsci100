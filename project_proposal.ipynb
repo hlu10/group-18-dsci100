{
 "cells": [
  {
   "cell_type": "markdown",
   "id": "798b3a05-ba7f-47db-8a20-3d966d737e8f",
   "metadata": {},
   "source": [
    "Project proposal\n",
    "Reqs:\n",
    "\n",
    "**Specific expectations for the proposal:**\n",
    "\n",
    "Each group is expected to prepare a 1 page (max 500 words) written proposal that identifies the dataset they plan to work on, as well as the question they would like to answer using that dataset for their group project. The proposal should be done in a Jupyter notebook, and then submitted both as an .html file (File -> Download As -> HTML) and an .ipynb file that is reproducible (i.e. works and runs without any additional files.)\n",
    "\n",
    "Each proposal should include the following sections:\n",
    "\n",
    "**Title**a\n",
    "\n",
    "**Introduction:**\n",
    "\n",
    "Sleep is a fundamental aspect of human health and plays a crucial role in our overall well-being. Understanding the factors that influence sleep patterns and their impact on daily habits and health outcomes is of utmost importance. \n",
    "This proposal outlines a data analysis project utilizing the Sleep Health and Lifestyle Dataset, a comprehensive collection of information pertaining to sleep, lifestyle factors, cardiovascular health, and sleep disorders. \n",
    "\n",
    "\n",
    "By leveraging the diverse information contained in this dataset, we can… answer *Insert research question*\n",
    "\n",
    "\n",
    " uncover valuable findings that contribute to the broader understanding of sleep health and its interconnectedness with various aspects of individuals' lives. \n",
    "\n",
    "- Provide some relevant background information on the topic so that someone unfamiliar with it will be prepared to understand the rest of your proposal\n",
    "- Clearly state the question you will try to answer with your project\n",
    "- Identify and describe the dataset that will be used to answer the question\n",
    "\n",
    "**Preliminary exploratory data analysis:**\n",
    "- Demonstrate that the dataset can be read from the web into R \n",
    "- Clean and wrangle your data into a tidy format\n",
    "- Using only training data, summarize the data in at least one table (this is exploratory data analysis). An example of a useful table could be one that reports the number of observations in each class, the means of the predictor variables you plan to use in your analysis and how many rows have missing data. \n",
    "- Using only training data, visualize the data with at least one plot relevant to the analysis you plan to do (this is exploratory data analysis). An example of a useful visualization could be one that compares the distributions of each of the predictor variables you plan to use in your analysis.\n",
    "\n",
    "**Methods:**\n",
    "- Explain how you will conduct either your data analysis and which variables/columns you will use. Note - you do not need to use all variables/columns that exist in the raw data set. In fact, that's often not a good idea. For each variable think: is this a useful variable for prediction?\n",
    "- Describe at least one way that you will visualize the results\n",
    "\n",
    "\n",
    "**Expected outcomes and significance:**\n",
    "- What do you expect to find?\n",
    "- What impact could such findings have?\n",
    "- What future questions could this lead to?\n",
    "\n",
    "Please submit your group project proposal. Only one member of your team needs to submit. "
   ]
  },
  {
   "cell_type": "code",
   "execution_count": null,
   "id": "b9f120f0-83ec-41cb-ae06-8f3bbe3f9d76",
   "metadata": {},
   "outputs": [],
   "source": []
  },
  {
   "cell_type": "code",
   "execution_count": null,
   "id": "eb5db512-62e2-46f0-90ef-102721cadea6",
   "metadata": {},
   "outputs": [],
   "source": []
  }
 ],
 "metadata": {
  "kernelspec": {
   "display_name": "Python 3 (ipykernel)",
   "language": "python",
   "name": "python3"
  },
  "language_info": {
   "codemirror_mode": {
    "name": "ipython",
    "version": 3
   },
   "file_extension": ".py",
   "mimetype": "text/x-python",
   "name": "python",
   "nbconvert_exporter": "python",
   "pygments_lexer": "ipython3",
   "version": "3.10.5"
  }
 },
 "nbformat": 4,
 "nbformat_minor": 5
}
