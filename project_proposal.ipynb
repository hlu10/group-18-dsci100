{
 "cells": [
  {
   "cell_type": "markdown",
   "id": "94466072-221d-4d73-85d5-4715db0196eb",
   "metadata": {},
   "source": [
    "DSCI100 002, Group 18\n",
    "\n",
    "Group Members: Jimmy Choy, Jennifer Law, Heather Lu, Elise Wong\n",
    "\n",
    "\n",
    "\n",
    "**Sleep Disorder Diagnosis**"
   ]
  },
  {
   "cell_type": "markdown",
   "id": "798b3a05-ba7f-47db-8a20-3d966d737e8f",
   "metadata": {},
   "source": [
    "**Introduction:**\n",
    "\n",
    "Sleep is a fundamental aspect of human life and is critical to physical and mental health. However, many people suffer from sleep disorders, which involve problems with the quality, timing, and amount of sleep. The two most common sleep disorders are sleep apnea, where breathing frequently stops during sleep, and insomnia, where people have difficulty falling and staying asleep. Sleep disorders can be influenced by lifestyle and are often comorbid with chronic health disorders.\n",
    "\n",
    "In our project, we will utilise the Sleep Health and Lifestyle Dataset. This dataset is a collection of information pertaining to sleep, lifestyle factors, cardiovascular health, and sleep disorders. Using the dataset, we aim to determine: “How can lifestyle and physiological measures be used to determine the absence or presence of diagnosed sleep disorders?” \n",
    " "
   ]
  },
  {
   "cell_type": "markdown",
   "id": "95fa7c9d-517c-42ea-be50-b2824cae65c2",
   "metadata": {},
   "source": [
    "**Methods:**"
   ]
  },
  {
   "cell_type": "markdown",
   "id": "ed495b7b-ac98-46d8-9306-ea1f755522d1",
   "metadata": {},
   "source": [
    "**Preliminary exploratory data analysis**"
   ]
  },
  {
   "cell_type": "code",
   "execution_count": 12,
   "id": "180c704f-335c-4360-8b4b-518244d57246",
   "metadata": {},
   "outputs": [
    {
     "name": "stderr",
     "output_type": "stream",
     "text": [
      "\u001b[1mRows: \u001b[22m\u001b[34m374\u001b[39m \u001b[1mColumns: \u001b[22m\u001b[34m13\u001b[39m\n",
      "\u001b[36m──\u001b[39m \u001b[1mColumn specification\u001b[22m \u001b[36m────────────────────────────────────────────────────────\u001b[39m\n",
      "\u001b[1mDelimiter:\u001b[22m \",\"\n",
      "\u001b[31mchr\u001b[39m (5): Gender, Occupation, BMI Category, Blood Pressure, Sleep Disorder\n",
      "\u001b[32mdbl\u001b[39m (8): Person ID, Age, Sleep Duration, Quality of Sleep, Physical Activity...\n",
      "\n",
      "\u001b[36mℹ\u001b[39m Use `spec()` to retrieve the full column specification for this data.\n",
      "\u001b[36mℹ\u001b[39m Specify the column types or set `show_col_types = FALSE` to quiet this message.\n"
     ]
    },
    {
     "data": {
      "text/html": [
       "<table class=\"dataframe\">\n",
       "<caption>A tibble: 6 × 13</caption>\n",
       "<thead>\n",
       "\t<tr><th scope=col>Person ID</th><th scope=col>Gender</th><th scope=col>Age</th><th scope=col>Occupation</th><th scope=col>Sleep Duration</th><th scope=col>Quality of Sleep</th><th scope=col>Physical Activity Level</th><th scope=col>Stress Level</th><th scope=col>BMI Category</th><th scope=col>Blood Pressure</th><th scope=col>Heart Rate</th><th scope=col>Daily Steps</th><th scope=col>Sleep Disorder</th></tr>\n",
       "\t<tr><th scope=col>&lt;dbl&gt;</th><th scope=col>&lt;chr&gt;</th><th scope=col>&lt;dbl&gt;</th><th scope=col>&lt;chr&gt;</th><th scope=col>&lt;dbl&gt;</th><th scope=col>&lt;dbl&gt;</th><th scope=col>&lt;dbl&gt;</th><th scope=col>&lt;dbl&gt;</th><th scope=col>&lt;chr&gt;</th><th scope=col>&lt;chr&gt;</th><th scope=col>&lt;dbl&gt;</th><th scope=col>&lt;dbl&gt;</th><th scope=col>&lt;chr&gt;</th></tr>\n",
       "</thead>\n",
       "<tbody>\n",
       "\t<tr><td>1</td><td>Male</td><td>27</td><td>Software Engineer   </td><td>6.1</td><td>6</td><td>42</td><td>6</td><td>Overweight</td><td>126/83</td><td>77</td><td> 4200</td><td>None       </td></tr>\n",
       "\t<tr><td>2</td><td>Male</td><td>28</td><td>Doctor              </td><td>6.2</td><td>6</td><td>60</td><td>8</td><td>Normal    </td><td>125/80</td><td>75</td><td>10000</td><td>None       </td></tr>\n",
       "\t<tr><td>3</td><td>Male</td><td>28</td><td>Doctor              </td><td>6.2</td><td>6</td><td>60</td><td>8</td><td>Normal    </td><td>125/80</td><td>75</td><td>10000</td><td>None       </td></tr>\n",
       "\t<tr><td>4</td><td>Male</td><td>28</td><td>Sales Representative</td><td>5.9</td><td>4</td><td>30</td><td>8</td><td>Obese     </td><td>140/90</td><td>85</td><td> 3000</td><td>Sleep Apnea</td></tr>\n",
       "\t<tr><td>5</td><td>Male</td><td>28</td><td>Sales Representative</td><td>5.9</td><td>4</td><td>30</td><td>8</td><td>Obese     </td><td>140/90</td><td>85</td><td> 3000</td><td>Sleep Apnea</td></tr>\n",
       "\t<tr><td>6</td><td>Male</td><td>28</td><td>Software Engineer   </td><td>5.9</td><td>4</td><td>30</td><td>8</td><td>Obese     </td><td>140/90</td><td>85</td><td> 3000</td><td>Insomnia   </td></tr>\n",
       "</tbody>\n",
       "</table>\n"
      ],
      "text/latex": [
       "A tibble: 6 × 13\n",
       "\\begin{tabular}{lllllllllllll}\n",
       " Person ID & Gender & Age & Occupation & Sleep Duration & Quality of Sleep & Physical Activity Level & Stress Level & BMI Category & Blood Pressure & Heart Rate & Daily Steps & Sleep Disorder\\\\\n",
       " <dbl> & <chr> & <dbl> & <chr> & <dbl> & <dbl> & <dbl> & <dbl> & <chr> & <chr> & <dbl> & <dbl> & <chr>\\\\\n",
       "\\hline\n",
       "\t 1 & Male & 27 & Software Engineer    & 6.1 & 6 & 42 & 6 & Overweight & 126/83 & 77 &  4200 & None       \\\\\n",
       "\t 2 & Male & 28 & Doctor               & 6.2 & 6 & 60 & 8 & Normal     & 125/80 & 75 & 10000 & None       \\\\\n",
       "\t 3 & Male & 28 & Doctor               & 6.2 & 6 & 60 & 8 & Normal     & 125/80 & 75 & 10000 & None       \\\\\n",
       "\t 4 & Male & 28 & Sales Representative & 5.9 & 4 & 30 & 8 & Obese      & 140/90 & 85 &  3000 & Sleep Apnea\\\\\n",
       "\t 5 & Male & 28 & Sales Representative & 5.9 & 4 & 30 & 8 & Obese      & 140/90 & 85 &  3000 & Sleep Apnea\\\\\n",
       "\t 6 & Male & 28 & Software Engineer    & 5.9 & 4 & 30 & 8 & Obese      & 140/90 & 85 &  3000 & Insomnia   \\\\\n",
       "\\end{tabular}\n"
      ],
      "text/markdown": [
       "\n",
       "A tibble: 6 × 13\n",
       "\n",
       "| Person ID &lt;dbl&gt; | Gender &lt;chr&gt; | Age &lt;dbl&gt; | Occupation &lt;chr&gt; | Sleep Duration &lt;dbl&gt; | Quality of Sleep &lt;dbl&gt; | Physical Activity Level &lt;dbl&gt; | Stress Level &lt;dbl&gt; | BMI Category &lt;chr&gt; | Blood Pressure &lt;chr&gt; | Heart Rate &lt;dbl&gt; | Daily Steps &lt;dbl&gt; | Sleep Disorder &lt;chr&gt; |\n",
       "|---|---|---|---|---|---|---|---|---|---|---|---|---|\n",
       "| 1 | Male | 27 | Software Engineer    | 6.1 | 6 | 42 | 6 | Overweight | 126/83 | 77 |  4200 | None        |\n",
       "| 2 | Male | 28 | Doctor               | 6.2 | 6 | 60 | 8 | Normal     | 125/80 | 75 | 10000 | None        |\n",
       "| 3 | Male | 28 | Doctor               | 6.2 | 6 | 60 | 8 | Normal     | 125/80 | 75 | 10000 | None        |\n",
       "| 4 | Male | 28 | Sales Representative | 5.9 | 4 | 30 | 8 | Obese      | 140/90 | 85 |  3000 | Sleep Apnea |\n",
       "| 5 | Male | 28 | Sales Representative | 5.9 | 4 | 30 | 8 | Obese      | 140/90 | 85 |  3000 | Sleep Apnea |\n",
       "| 6 | Male | 28 | Software Engineer    | 5.9 | 4 | 30 | 8 | Obese      | 140/90 | 85 |  3000 | Insomnia    |\n",
       "\n"
      ],
      "text/plain": [
       "  Person ID Gender Age Occupation           Sleep Duration Quality of Sleep\n",
       "1 1         Male   27  Software Engineer    6.1            6               \n",
       "2 2         Male   28  Doctor               6.2            6               \n",
       "3 3         Male   28  Doctor               6.2            6               \n",
       "4 4         Male   28  Sales Representative 5.9            4               \n",
       "5 5         Male   28  Sales Representative 5.9            4               \n",
       "6 6         Male   28  Software Engineer    5.9            4               \n",
       "  Physical Activity Level Stress Level BMI Category Blood Pressure Heart Rate\n",
       "1 42                      6            Overweight   126/83         77        \n",
       "2 60                      8            Normal       125/80         75        \n",
       "3 60                      8            Normal       125/80         75        \n",
       "4 30                      8            Obese        140/90         85        \n",
       "5 30                      8            Obese        140/90         85        \n",
       "6 30                      8            Obese        140/90         85        \n",
       "  Daily Steps Sleep Disorder\n",
       "1  4200       None          \n",
       "2 10000       None          \n",
       "3 10000       None          \n",
       "4  3000       Sleep Apnea   \n",
       "5  3000       Sleep Apnea   \n",
       "6  3000       Insomnia      "
      ]
     },
     "metadata": {},
     "output_type": "display_data"
    }
   ],
   "source": [
    "library(tidyverse)\n",
    "library(tidymodels)\n",
    "url <- \"https://drive.google.com/uc?export=download&id=1oltvINJVaLEg0raTdWG2IoFCf6w4h5vD\"\n",
    "sleep_data <- read_delim(url,\n",
    "                         delim = \",\")\n",
    "head(sleep_data)"
   ]
  },
  {
   "cell_type": "code",
   "execution_count": 13,
   "id": "eb5db512-62e2-46f0-90ef-102721cadea6",
   "metadata": {},
   "outputs": [],
   "source": [
    "#adding a period to replace spaces in the headers\n",
    "colnames(sleep_data) <- make.names(colnames(sleep_data))"
   ]
  },
  {
   "cell_type": "code",
   "execution_count": 3,
   "id": "ed5fe0e6-b45c-4326-bc0e-3d7d1e3f99bb",
   "metadata": {},
   "outputs": [],
   "source": [
    "#separating bp column\n",
    "sleep_data <- separate(sleep_data,\n",
    "    col = Blood.Pressure,\n",
    "    into = c(\"Systolic.BP\", \"Diastolic.BP\"),\n",
    "    sep = \"/\",\n",
    "    convert = TRUE) "
   ]
  },
  {
   "cell_type": "code",
   "execution_count": 4,
   "id": "cc0f0bf4-da0a-4473-bf11-91bc34ed7719",
   "metadata": {},
   "outputs": [
    {
     "data": {
      "text/html": [
       "<table class=\"dataframe\">\n",
       "<caption>A tibble: 6 × 10</caption>\n",
       "<thead>\n",
       "\t<tr><th scope=col>Age</th><th scope=col>Sleep.Duration</th><th scope=col>Quality.of.Sleep</th><th scope=col>Physical.Activity.Level</th><th scope=col>Stress.Level</th><th scope=col>Systolic.BP</th><th scope=col>Diastolic.BP</th><th scope=col>Heart.Rate</th><th scope=col>Daily.Steps</th><th scope=col>Sleep.Disorder</th></tr>\n",
       "\t<tr><th scope=col>&lt;dbl&gt;</th><th scope=col>&lt;dbl&gt;</th><th scope=col>&lt;dbl&gt;</th><th scope=col>&lt;dbl&gt;</th><th scope=col>&lt;dbl&gt;</th><th scope=col>&lt;int&gt;</th><th scope=col>&lt;int&gt;</th><th scope=col>&lt;dbl&gt;</th><th scope=col>&lt;dbl&gt;</th><th scope=col>&lt;chr&gt;</th></tr>\n",
       "</thead>\n",
       "<tbody>\n",
       "\t<tr><td>27</td><td>6.1</td><td>6</td><td>42</td><td>6</td><td>126</td><td>83</td><td>77</td><td> 4200</td><td>None       </td></tr>\n",
       "\t<tr><td>28</td><td>6.2</td><td>6</td><td>60</td><td>8</td><td>125</td><td>80</td><td>75</td><td>10000</td><td>None       </td></tr>\n",
       "\t<tr><td>28</td><td>6.2</td><td>6</td><td>60</td><td>8</td><td>125</td><td>80</td><td>75</td><td>10000</td><td>None       </td></tr>\n",
       "\t<tr><td>28</td><td>5.9</td><td>4</td><td>30</td><td>8</td><td>140</td><td>90</td><td>85</td><td> 3000</td><td>Sleep Apnea</td></tr>\n",
       "\t<tr><td>28</td><td>5.9</td><td>4</td><td>30</td><td>8</td><td>140</td><td>90</td><td>85</td><td> 3000</td><td>Sleep Apnea</td></tr>\n",
       "\t<tr><td>28</td><td>5.9</td><td>4</td><td>30</td><td>8</td><td>140</td><td>90</td><td>85</td><td> 3000</td><td>Insomnia   </td></tr>\n",
       "</tbody>\n",
       "</table>\n"
      ],
      "text/latex": [
       "A tibble: 6 × 10\n",
       "\\begin{tabular}{llllllllll}\n",
       " Age & Sleep.Duration & Quality.of.Sleep & Physical.Activity.Level & Stress.Level & Systolic.BP & Diastolic.BP & Heart.Rate & Daily.Steps & Sleep.Disorder\\\\\n",
       " <dbl> & <dbl> & <dbl> & <dbl> & <dbl> & <int> & <int> & <dbl> & <dbl> & <chr>\\\\\n",
       "\\hline\n",
       "\t 27 & 6.1 & 6 & 42 & 6 & 126 & 83 & 77 &  4200 & None       \\\\\n",
       "\t 28 & 6.2 & 6 & 60 & 8 & 125 & 80 & 75 & 10000 & None       \\\\\n",
       "\t 28 & 6.2 & 6 & 60 & 8 & 125 & 80 & 75 & 10000 & None       \\\\\n",
       "\t 28 & 5.9 & 4 & 30 & 8 & 140 & 90 & 85 &  3000 & Sleep Apnea\\\\\n",
       "\t 28 & 5.9 & 4 & 30 & 8 & 140 & 90 & 85 &  3000 & Sleep Apnea\\\\\n",
       "\t 28 & 5.9 & 4 & 30 & 8 & 140 & 90 & 85 &  3000 & Insomnia   \\\\\n",
       "\\end{tabular}\n"
      ],
      "text/markdown": [
       "\n",
       "A tibble: 6 × 10\n",
       "\n",
       "| Age &lt;dbl&gt; | Sleep.Duration &lt;dbl&gt; | Quality.of.Sleep &lt;dbl&gt; | Physical.Activity.Level &lt;dbl&gt; | Stress.Level &lt;dbl&gt; | Systolic.BP &lt;int&gt; | Diastolic.BP &lt;int&gt; | Heart.Rate &lt;dbl&gt; | Daily.Steps &lt;dbl&gt; | Sleep.Disorder &lt;chr&gt; |\n",
       "|---|---|---|---|---|---|---|---|---|---|\n",
       "| 27 | 6.1 | 6 | 42 | 6 | 126 | 83 | 77 |  4200 | None        |\n",
       "| 28 | 6.2 | 6 | 60 | 8 | 125 | 80 | 75 | 10000 | None        |\n",
       "| 28 | 6.2 | 6 | 60 | 8 | 125 | 80 | 75 | 10000 | None        |\n",
       "| 28 | 5.9 | 4 | 30 | 8 | 140 | 90 | 85 |  3000 | Sleep Apnea |\n",
       "| 28 | 5.9 | 4 | 30 | 8 | 140 | 90 | 85 |  3000 | Sleep Apnea |\n",
       "| 28 | 5.9 | 4 | 30 | 8 | 140 | 90 | 85 |  3000 | Insomnia    |\n",
       "\n"
      ],
      "text/plain": [
       "  Age Sleep.Duration Quality.of.Sleep Physical.Activity.Level Stress.Level\n",
       "1 27  6.1            6                42                      6           \n",
       "2 28  6.2            6                60                      8           \n",
       "3 28  6.2            6                60                      8           \n",
       "4 28  5.9            4                30                      8           \n",
       "5 28  5.9            4                30                      8           \n",
       "6 28  5.9            4                30                      8           \n",
       "  Systolic.BP Diastolic.BP Heart.Rate Daily.Steps Sleep.Disorder\n",
       "1 126         83           77          4200       None          \n",
       "2 125         80           75         10000       None          \n",
       "3 125         80           75         10000       None          \n",
       "4 140         90           85          3000       Sleep Apnea   \n",
       "5 140         90           85          3000       Sleep Apnea   \n",
       "6 140         90           85          3000       Insomnia      "
      ]
     },
     "metadata": {},
     "output_type": "display_data"
    }
   ],
   "source": [
    "#removing unwanted predictors\n",
    "sleep_data_2 <- sleep_data |>\n",
    "    select(-Person.ID, -Gender, -Occupation, -BMI.Category)\n",
    "head(sleep_data_2)"
   ]
  },
  {
   "cell_type": "code",
   "execution_count": 5,
   "id": "bed95030-43ba-4356-9b35-fd85ce28121a",
   "metadata": {},
   "outputs": [
    {
     "data": {
      "text/html": [
       "<table class=\"dataframe\">\n",
       "<caption>A data.frame: 6 × 10</caption>\n",
       "<thead>\n",
       "\t<tr><th></th><th scope=col>Age</th><th scope=col>Sleep.Duration</th><th scope=col>Quality.of.Sleep</th><th scope=col>Physical.Activity.Level</th><th scope=col>Stress.Level</th><th scope=col>Systolic.BP</th><th scope=col>Diastolic.BP</th><th scope=col>Heart.Rate</th><th scope=col>Daily.Steps</th><th scope=col>Diagnosis</th></tr>\n",
       "\t<tr><th></th><th scope=col>&lt;dbl&gt;</th><th scope=col>&lt;dbl&gt;</th><th scope=col>&lt;dbl&gt;</th><th scope=col>&lt;dbl&gt;</th><th scope=col>&lt;dbl&gt;</th><th scope=col>&lt;int&gt;</th><th scope=col>&lt;int&gt;</th><th scope=col>&lt;dbl&gt;</th><th scope=col>&lt;dbl&gt;</th><th scope=col>&lt;chr&gt;</th></tr>\n",
       "</thead>\n",
       "<tbody>\n",
       "\t<tr><th scope=row>1</th><td>28</td><td>5.9</td><td>4</td><td>30</td><td>8</td><td>140</td><td>90</td><td>85</td><td>3000</td><td>Sleep Disorder</td></tr>\n",
       "\t<tr><th scope=row>2</th><td>28</td><td>5.9</td><td>4</td><td>30</td><td>8</td><td>140</td><td>90</td><td>85</td><td>3000</td><td>Sleep Disorder</td></tr>\n",
       "\t<tr><th scope=row>3</th><td>29</td><td>6.5</td><td>5</td><td>40</td><td>7</td><td>132</td><td>87</td><td>80</td><td>4000</td><td>Sleep Disorder</td></tr>\n",
       "\t<tr><th scope=row>4</th><td>29</td><td>6.0</td><td>6</td><td>30</td><td>8</td><td>120</td><td>80</td><td>70</td><td>8000</td><td>Sleep Disorder</td></tr>\n",
       "\t<tr><th scope=row>5</th><td>30</td><td>6.4</td><td>5</td><td>35</td><td>7</td><td>130</td><td>86</td><td>78</td><td>4100</td><td>Sleep Disorder</td></tr>\n",
       "\t<tr><th scope=row>6</th><td>31</td><td>7.7</td><td>7</td><td>75</td><td>6</td><td>120</td><td>80</td><td>70</td><td>8000</td><td>Sleep Disorder</td></tr>\n",
       "</tbody>\n",
       "</table>\n"
      ],
      "text/latex": [
       "A data.frame: 6 × 10\n",
       "\\begin{tabular}{r|llllllllll}\n",
       "  & Age & Sleep.Duration & Quality.of.Sleep & Physical.Activity.Level & Stress.Level & Systolic.BP & Diastolic.BP & Heart.Rate & Daily.Steps & Diagnosis\\\\\n",
       "  & <dbl> & <dbl> & <dbl> & <dbl> & <dbl> & <int> & <int> & <dbl> & <dbl> & <chr>\\\\\n",
       "\\hline\n",
       "\t1 & 28 & 5.9 & 4 & 30 & 8 & 140 & 90 & 85 & 3000 & Sleep Disorder\\\\\n",
       "\t2 & 28 & 5.9 & 4 & 30 & 8 & 140 & 90 & 85 & 3000 & Sleep Disorder\\\\\n",
       "\t3 & 29 & 6.5 & 5 & 40 & 7 & 132 & 87 & 80 & 4000 & Sleep Disorder\\\\\n",
       "\t4 & 29 & 6.0 & 6 & 30 & 8 & 120 & 80 & 70 & 8000 & Sleep Disorder\\\\\n",
       "\t5 & 30 & 6.4 & 5 & 35 & 7 & 130 & 86 & 78 & 4100 & Sleep Disorder\\\\\n",
       "\t6 & 31 & 7.7 & 7 & 75 & 6 & 120 & 80 & 70 & 8000 & Sleep Disorder\\\\\n",
       "\\end{tabular}\n"
      ],
      "text/markdown": [
       "\n",
       "A data.frame: 6 × 10\n",
       "\n",
       "| <!--/--> | Age &lt;dbl&gt; | Sleep.Duration &lt;dbl&gt; | Quality.of.Sleep &lt;dbl&gt; | Physical.Activity.Level &lt;dbl&gt; | Stress.Level &lt;dbl&gt; | Systolic.BP &lt;int&gt; | Diastolic.BP &lt;int&gt; | Heart.Rate &lt;dbl&gt; | Daily.Steps &lt;dbl&gt; | Diagnosis &lt;chr&gt; |\n",
       "|---|---|---|---|---|---|---|---|---|---|---|\n",
       "| 1 | 28 | 5.9 | 4 | 30 | 8 | 140 | 90 | 85 | 3000 | Sleep Disorder |\n",
       "| 2 | 28 | 5.9 | 4 | 30 | 8 | 140 | 90 | 85 | 3000 | Sleep Disorder |\n",
       "| 3 | 29 | 6.5 | 5 | 40 | 7 | 132 | 87 | 80 | 4000 | Sleep Disorder |\n",
       "| 4 | 29 | 6.0 | 6 | 30 | 8 | 120 | 80 | 70 | 8000 | Sleep Disorder |\n",
       "| 5 | 30 | 6.4 | 5 | 35 | 7 | 130 | 86 | 78 | 4100 | Sleep Disorder |\n",
       "| 6 | 31 | 7.7 | 7 | 75 | 6 | 120 | 80 | 70 | 8000 | Sleep Disorder |\n",
       "\n"
      ],
      "text/plain": [
       "  Age Sleep.Duration Quality.of.Sleep Physical.Activity.Level Stress.Level\n",
       "1 28  5.9            4                30                      8           \n",
       "2 28  5.9            4                30                      8           \n",
       "3 29  6.5            5                40                      7           \n",
       "4 29  6.0            6                30                      8           \n",
       "5 30  6.4            5                35                      7           \n",
       "6 31  7.7            7                75                      6           \n",
       "  Systolic.BP Diastolic.BP Heart.Rate Daily.Steps Diagnosis     \n",
       "1 140         90           85         3000        Sleep Disorder\n",
       "2 140         90           85         3000        Sleep Disorder\n",
       "3 132         87           80         4000        Sleep Disorder\n",
       "4 120         80           70         8000        Sleep Disorder\n",
       "5 130         86           78         4100        Sleep Disorder\n",
       "6 120         80           70         8000        Sleep Disorder"
      ]
     },
     "metadata": {},
     "output_type": "display_data"
    }
   ],
   "source": [
    "#combining 'sleep apnea' and 'insomnia' into 'sleep disorders'\n",
    "sleep_apnea_untidy <- sleep_data_2 |>\n",
    "filter(Sleep.Disorder == \"Sleep Apnea\") |>\n",
    "select(-Sleep.Disorder)\n",
    "sleep_apnea_tidy <- data.frame(sleep_apnea_untidy, Diagnosis = \"Sleep Disorder\")\n",
    "\n",
    "insomnia_untidy <- sleep_data_2 |>\n",
    "filter(Sleep.Disorder == \"Insomnia\") |>\n",
    "select(-Sleep.Disorder)\n",
    "insomnia_tidy <- data.frame(insomnia_untidy, Diagnosis = \"Sleep Disorder\")\n",
    "\n",
    "none_untidy <- sleep_data_2 |>\n",
    "filter(Sleep.Disorder == \"None\") |>\n",
    "select(-Sleep.Disorder)\n",
    "none_tidy <- data.frame(none_untidy, Diagnosis = \"None\")\n",
    "\n",
    "tidy_sleep_data <- rbind(sleep_apnea_tidy, insomnia_tidy, none_tidy)\n",
    "\n",
    "head(tidy_sleep_data)"
   ]
  },
  {
   "cell_type": "code",
   "execution_count": 6,
   "id": "9bd83db3-2ebd-4308-b546-ac72d9464f28",
   "metadata": {},
   "outputs": [],
   "source": [
    "#splitting the data into training and test sets\n",
    "sleep_split <- initial_split(tidy_sleep_data, prop = 0.75, strata = Diagnosis)\n",
    "sleep_train <- training(sleep_split)\n",
    "sleep_test <- testing(sleep_split)"
   ]
  },
  {
   "cell_type": "markdown",
   "id": "af6ba191-eead-42c7-b846-a583cc420202",
   "metadata": {},
   "source": [
    "**Table 1**\n",
    "\n",
    "The table below represents the number of observations and percentages for each class in the training set."
   ]
  },
  {
   "cell_type": "code",
   "execution_count": 7,
   "id": "03d0ed71-d906-44b1-afb0-f053a96ee15a",
   "metadata": {},
   "outputs": [
    {
     "data": {
      "text/html": [
       "<table class=\"dataframe\">\n",
       "<caption>A tibble: 2 × 3</caption>\n",
       "<thead>\n",
       "\t<tr><th scope=col>Diagnosis</th><th scope=col>count</th><th scope=col>percentage</th></tr>\n",
       "\t<tr><th scope=col>&lt;chr&gt;</th><th scope=col>&lt;int&gt;</th><th scope=col>&lt;dbl&gt;</th></tr>\n",
       "</thead>\n",
       "<tbody>\n",
       "\t<tr><td>None          </td><td>164</td><td>58.57143</td></tr>\n",
       "\t<tr><td>Sleep Disorder</td><td>116</td><td>41.42857</td></tr>\n",
       "</tbody>\n",
       "</table>\n"
      ],
      "text/latex": [
       "A tibble: 2 × 3\n",
       "\\begin{tabular}{lll}\n",
       " Diagnosis & count & percentage\\\\\n",
       " <chr> & <int> & <dbl>\\\\\n",
       "\\hline\n",
       "\t None           & 164 & 58.57143\\\\\n",
       "\t Sleep Disorder & 116 & 41.42857\\\\\n",
       "\\end{tabular}\n"
      ],
      "text/markdown": [
       "\n",
       "A tibble: 2 × 3\n",
       "\n",
       "| Diagnosis &lt;chr&gt; | count &lt;int&gt; | percentage &lt;dbl&gt; |\n",
       "|---|---|---|\n",
       "| None           | 164 | 58.57143 |\n",
       "| Sleep Disorder | 116 | 41.42857 |\n",
       "\n"
      ],
      "text/plain": [
       "  Diagnosis      count percentage\n",
       "1 None           164   58.57143  \n",
       "2 Sleep Disorder 116   41.42857  "
      ]
     },
     "metadata": {},
     "output_type": "display_data"
    }
   ],
   "source": [
    "summary_table_1 <- sleep_train |>\n",
    "  group_by(Diagnosis) |>\n",
    "  summarize(count = n(), percentage = n()/nrow(sleep_train)*100)\n",
    "\n",
    "summary_table_1"
   ]
  },
  {
   "cell_type": "markdown",
   "id": "6956aab3-a45e-4587-b1ee-21b7052d0569",
   "metadata": {},
   "source": [
    "**Table 2**\n",
    "\n",
    "The table below represents the means for each predictor in the training set."
   ]
  },
  {
   "cell_type": "code",
   "execution_count": 8,
   "id": "52dd3055-a390-47dc-9e26-f2a0aa926351",
   "metadata": {},
   "outputs": [
    {
     "data": {
      "text/html": [
       "<table class=\"dataframe\">\n",
       "<caption>A data.frame: 1 × 9</caption>\n",
       "<thead>\n",
       "\t<tr><th scope=col>Age</th><th scope=col>Sleep.Duration</th><th scope=col>Quality.of.Sleep</th><th scope=col>Physical.Activity.Level</th><th scope=col>Stress.Level</th><th scope=col>Systolic.BP</th><th scope=col>Diastolic.BP</th><th scope=col>Heart.Rate</th><th scope=col>Daily.Steps</th></tr>\n",
       "\t<tr><th scope=col>&lt;dbl&gt;</th><th scope=col>&lt;dbl&gt;</th><th scope=col>&lt;dbl&gt;</th><th scope=col>&lt;dbl&gt;</th><th scope=col>&lt;dbl&gt;</th><th scope=col>&lt;dbl&gt;</th><th scope=col>&lt;dbl&gt;</th><th scope=col>&lt;dbl&gt;</th><th scope=col>&lt;dbl&gt;</th></tr>\n",
       "</thead>\n",
       "<tbody>\n",
       "\t<tr><td>42.10714</td><td>7.126071</td><td>7.335714</td><td>60.05714</td><td>5.385714</td><td>128.4179</td><td>84.54286</td><td>70.18929</td><td>6881.429</td></tr>\n",
       "</tbody>\n",
       "</table>\n"
      ],
      "text/latex": [
       "A data.frame: 1 × 9\n",
       "\\begin{tabular}{lllllllll}\n",
       " Age & Sleep.Duration & Quality.of.Sleep & Physical.Activity.Level & Stress.Level & Systolic.BP & Diastolic.BP & Heart.Rate & Daily.Steps\\\\\n",
       " <dbl> & <dbl> & <dbl> & <dbl> & <dbl> & <dbl> & <dbl> & <dbl> & <dbl>\\\\\n",
       "\\hline\n",
       "\t 42.10714 & 7.126071 & 7.335714 & 60.05714 & 5.385714 & 128.4179 & 84.54286 & 70.18929 & 6881.429\\\\\n",
       "\\end{tabular}\n"
      ],
      "text/markdown": [
       "\n",
       "A data.frame: 1 × 9\n",
       "\n",
       "| Age &lt;dbl&gt; | Sleep.Duration &lt;dbl&gt; | Quality.of.Sleep &lt;dbl&gt; | Physical.Activity.Level &lt;dbl&gt; | Stress.Level &lt;dbl&gt; | Systolic.BP &lt;dbl&gt; | Diastolic.BP &lt;dbl&gt; | Heart.Rate &lt;dbl&gt; | Daily.Steps &lt;dbl&gt; |\n",
       "|---|---|---|---|---|---|---|---|---|\n",
       "| 42.10714 | 7.126071 | 7.335714 | 60.05714 | 5.385714 | 128.4179 | 84.54286 | 70.18929 | 6881.429 |\n",
       "\n"
      ],
      "text/plain": [
       "  Age      Sleep.Duration Quality.of.Sleep Physical.Activity.Level Stress.Level\n",
       "1 42.10714 7.126071       7.335714         60.05714                5.385714    \n",
       "  Systolic.BP Diastolic.BP Heart.Rate Daily.Steps\n",
       "1 128.4179    84.54286     70.18929   6881.429   "
      ]
     },
     "metadata": {},
     "output_type": "display_data"
    }
   ],
   "source": [
    "summary_table_2 <- summarize(sleep_train, across(Age:Daily.Steps, mean))\n",
    "summary_table_2"
   ]
  },
  {
   "cell_type": "markdown",
   "id": "1c61c72b-32e8-466b-baed-7f803ed62023",
   "metadata": {},
   "source": [
    "**Visualization**\n",
    "\n",
    "Mean stress level (1-10)--where 1 represents lowest stress and 10 represents highest--between those with a sleep disorder diagnosis versus those without, in the training set. We observe that the mean stress level is greater for individuals with a sleep disorder diagnosis compared to those without."
   ]
  },
  {
   "cell_type": "code",
   "execution_count": 10,
   "id": "bb8265ae-dc3d-4cef-a110-f253dc9c4869",
   "metadata": {},
   "outputs": [
    {
     "data": {
      "image/png": "[encoded data removed]",
      "text/plain": [
       "plot without title"
      ]
     },
     "metadata": {
      "image/png": {
       "height": 600,
       "width": 900
      }
     },
     "output_type": "display_data"
    }
   ],
   "source": [
    "stress_mean <- sleep_train |>\n",
    "    group_by(Diagnosis) |>\n",
    "    summarize(Stress = mean(Stress.Level))\n",
    "\n",
    "options(repr.plot.width = 15, repr.plot.height = 10)\n",
    "\n",
    "mean_stress_plot <- stress_mean |>\n",
    "        ggplot(aes(y = Stress, x = Diagnosis, fill = Diagnosis))+\n",
    "        geom_bar(stat = \"identity\", position = \"dodge\")+\n",
    "        labs(x = \"Diagnosis\", y = \"Mean Stress Level (1-10 Scale)\") +\n",
    "        theme(text = element_text(size = 20)) +\n",
    "        ggtitle(\"Mean Stress Level of Individuals With vs Without a Sleep Disorder\")\n",
    "mean_stress_plot  "
   ]
  },
  {
   "cell_type": "markdown",
   "id": "9db367f4-78cf-4e40-ad9c-7b9f851a1fed",
   "metadata": {},
   "source": [
    "**Expected outcomes and significance:**\n",
    "\n",
    "From our project, we expect to create a classification model that is able to predict an unclassified observation’s presence of a sleep disorder based on given physiological measures and lifestyle factors, as well as find the best K parameter that would provide the most accurate classifying model. These findings may help determine common factors associated with sleep disorder patients and which factors are strongly or weakly linked.\n",
    "\n",
    "We expect individuals who report the shortest sleep duration, the lowest levels of physical activity, the highest stress levels, and clinically unhealthier physiological measurements to have the highest occurrences of sleep disorder diagnosis.\n",
    "\n",
    "**Future questions our project could lead to are:**\n",
    "- What forms of interventions could be implemented to help the populations most affected by sleep disorders?\n",
    "- Is there one factor that best predicts the presence of sleep disorders?\n",
    "- Are there any other factors relating to lifestyle habits that also correlate with sleep disorder diagnosis?\n"
   ]
  },
  {
   "cell_type": "markdown",
   "id": "b2f0ba73-d26b-41b9-9497-3687633eced5",
   "metadata": {},
   "source": [
    "**References**\n",
    "Tharmalingam, L. (2023, May 26). Sleep health and lifestyle dataset. Kaggle.    https://www.kaggle.com/datasets/uom190346a/sleep-health-and-lifestyle-dataset "
   ]
  }
 ],
 "metadata": {
  "kernelspec": {
   "display_name": "R",
   "language": "R",
   "name": "ir"
  },
  "language_info": {
   "codemirror_mode": "r",
   "file_extension": ".r",
   "mimetype": "text/x-r-source",
   "name": "R",
   "pygments_lexer": "r",
   "version": "4.1.3"
  }
 },
 "nbformat": 4,
 "nbformat_minor": 5
}
