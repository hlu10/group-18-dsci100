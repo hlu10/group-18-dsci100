{
 "cells": [
  {
   "cell_type": "markdown",
   "id": "798b3a05-ba7f-47db-8a20-3d966d737e8f",
   "metadata": {},
   "source": [
    "Project proposal\n",
    "Reqs:\n",
    "\n",
    "**Specific expectations for the proposal:**\n",
    "\n",
    "Each group is expected to prepare a 1 page (max 500 words) written proposal that identifies the dataset they plan to work on, as well as the question they would like to answer using that dataset for their group project. The proposal should be done in a Jupyter notebook, and then submitted both as an .html file (File -> Download As -> HTML) and an .ipynb file that is reproducible (i.e. works and runs without any additional files.)\n",
    "\n",
    "Each proposal should include the following sections:\n",
    "\n",
    "**Title**\n",
    "\n",
    "**Introduction:**\n",
    "\n",
    "Sleep is a fundamental aspect of human life and is critical to physical and mental health. However, many people suffer from sleep disorders, which involve problems with the quality, timing, and amount of sleep. The two most common sleep disorders are sleep apnea, where breathing frequently stops during sleep, and insomnia, where people have difficulty falling and staying asleep. Sleep disorders can be influenced by lifestyle and are often comorbid with chronic health disorders.\n",
    "\n",
    "In our project, we will utilise the Sleep Health and Lifestyle Dataset. This dataset is a collection of information pertaining to sleep, lifestyle factors, cardiovascular health, and sleep disorders. Using the dataset, we aim to determine: “How can lifestyle and physiological measures be used to determine the absence or presence of diagnosed sleep disorders?” \n",
    "\n",
    "**Preliminary exploratory data analysis:**\n",
    "- Demonstrate that the dataset can be read from the web into R \n",
    "- Clean and wrangle your data into a tidy format\n",
    "- Using only training data, summarize the data in at least one table (this is exploratory data analysis). An example of a useful table could be one that reports the number of observations in each class, the means of the predictor variables you plan to use in your analysis and how many rows have missing data. \n",
    "- Using only training data, visualize the data with at least one plot relevant to the analysis you plan to do (this is exploratory data analysis). An example of a useful visualization could be one that compares the distributions of each of the predictor variables you plan to use in your analysis.\n",
    "\n",
    "**Methods:**\n",
    "- Explain how you will conduct either your data analysis and which variables/columns you will use. Note - you do not need to use all variables/columns that exist in the raw data set. In fact, that's often not a good idea. For each variable think: is this a useful variable for prediction?\n",
    "- Describe at least one way that you will visualize the results\n",
    "\n",
    "\n",
    "**Expected outcomes and significance:**\n",
    "\n",
    "From our project, we expect to create a classification model that is able to predict an unclassified observation’s presence of a sleep disorder based on given physiological measures and lifestyle factors, as well as find the best K parameter that would provide the most accurate classifying model. These findings may help determine common factors associated with sleep disorder patients and which factors are strongly or weakly linked.\n",
    "\n",
    "Future questions our project could lead to are:\n",
    "- What forms of interventions could be implemented to help the populations most affected by sleep disorders?\n",
    "- Is there one factor that best predicts the presence of sleep disorders?\n",
    "- Are there any other factors relating to lifestyle habits that also correlate with sleep disorder diagnosis?\n",
    " "
   ]
  },
  {
   "cell_type": "code",
   "execution_count": 10,
   "id": "b9f120f0-83ec-41cb-ae06-8f3bbe3f9d76",
   "metadata": {},
   "outputs": [
    {
     "name": "stderr",
     "output_type": "stream",
     "text": [
      "\u001b[1mRows: \u001b[22m\u001b[34m748\u001b[39m \u001b[1mColumns: \u001b[22m\u001b[34m13\u001b[39m\n",
      "\u001b[36m──\u001b[39m \u001b[1mColumn specification\u001b[22m \u001b[36m────────────────────────────────────────────────────────\u001b[39m\n",
      "\u001b[1mDelimiter:\u001b[22m \",\"\n",
      "\u001b[31mchr\u001b[39m (5): Gender, Occupation, BMI Category, Blood Pressure, Sleep Disorder\n",
      "\u001b[32mdbl\u001b[39m (8): Person ID, Age, Sleep Duration, Quality of Sleep, Physical Activity...\n",
      "\n",
      "\u001b[36mℹ\u001b[39m Use `spec()` to retrieve the full column specification for this data.\n",
      "\u001b[36mℹ\u001b[39m Specify the column types or set `show_col_types = FALSE` to quiet this message.\n"
     ]
    }
   ],
   "source": [
    "library(tidyverse)\n",
    "library(tidymodels)\n",
    "sleep_data <- read_csv(\"Sleep_health_and_lifestyle_dataset.csv\", skip = 1)"
   ]
  },
  {
   "cell_type": "code",
   "execution_count": 11,
   "id": "eb5db512-62e2-46f0-90ef-102721cadea6",
   "metadata": {},
   "outputs": [],
   "source": [
    "colnames(sleep_data) <- make.names(colnames(sleep_data))"
   ]
  },
  {
   "cell_type": "code",
   "execution_count": 12,
   "id": "c8b8a399-bb3d-4658-83ed-ae551905864f",
   "metadata": {},
   "outputs": [],
   "source": [
    "#removing NA values\n",
    "sleep_data <- na.omit(sleep_data)"
   ]
  },
  {
   "cell_type": "code",
   "execution_count": 16,
   "id": "ed5fe0e6-b45c-4326-bc0e-3d7d1e3f99bb",
   "metadata": {},
   "outputs": [],
   "source": [
    "#separating bp column\n",
    "sleep_data <- separate(sleep_data,\n",
    "    col = Blood.Pressure,\n",
    "    into = c(\"Systolic.BP\", \"Diastolic.BP\"),\n",
    "    sep = \"/\",\n",
    "    convert = TRUE) "
   ]
  },
  {
   "cell_type": "code",
   "execution_count": 17,
   "id": "cc0f0bf4-da0a-4473-bf11-91bc34ed7719",
   "metadata": {},
   "outputs": [
    {
     "data": {
      "text/html": [
       "<table class=\"dataframe\">\n",
       "<caption>A tibble: 6 × 11</caption>\n",
       "<thead>\n",
       "\t<tr><th scope=col>Person.ID</th><th scope=col>Age</th><th scope=col>Sleep.Duration</th><th scope=col>Quality.of.Sleep</th><th scope=col>Physical.Activity.Level</th><th scope=col>Stress.Level</th><th scope=col>Systolic.BP</th><th scope=col>Diastolic.BP</th><th scope=col>Heart.Rate</th><th scope=col>Daily.Steps</th><th scope=col>Sleep.Disorder</th></tr>\n",
       "\t<tr><th scope=col>&lt;dbl&gt;</th><th scope=col>&lt;dbl&gt;</th><th scope=col>&lt;dbl&gt;</th><th scope=col>&lt;dbl&gt;</th><th scope=col>&lt;dbl&gt;</th><th scope=col>&lt;dbl&gt;</th><th scope=col>&lt;int&gt;</th><th scope=col>&lt;int&gt;</th><th scope=col>&lt;dbl&gt;</th><th scope=col>&lt;dbl&gt;</th><th scope=col>&lt;chr&gt;</th></tr>\n",
       "</thead>\n",
       "<tbody>\n",
       "\t<tr><td>1</td><td>27</td><td>6.1</td><td>6</td><td>42</td><td>6</td><td>126</td><td>83</td><td>77</td><td> 4200</td><td>None       </td></tr>\n",
       "\t<tr><td>2</td><td>28</td><td>6.2</td><td>6</td><td>60</td><td>8</td><td>125</td><td>80</td><td>75</td><td>10000</td><td>None       </td></tr>\n",
       "\t<tr><td>3</td><td>28</td><td>6.2</td><td>6</td><td>60</td><td>8</td><td>125</td><td>80</td><td>75</td><td>10000</td><td>None       </td></tr>\n",
       "\t<tr><td>4</td><td>28</td><td>5.9</td><td>4</td><td>30</td><td>8</td><td>140</td><td>90</td><td>85</td><td> 3000</td><td>Sleep Apnea</td></tr>\n",
       "\t<tr><td>5</td><td>28</td><td>5.9</td><td>4</td><td>30</td><td>8</td><td>140</td><td>90</td><td>85</td><td> 3000</td><td>Sleep Apnea</td></tr>\n",
       "\t<tr><td>6</td><td>28</td><td>5.9</td><td>4</td><td>30</td><td>8</td><td>140</td><td>90</td><td>85</td><td> 3000</td><td>Insomnia   </td></tr>\n",
       "</tbody>\n",
       "</table>\n"
      ],
      "text/latex": [
       "A tibble: 6 × 11\n",
       "\\begin{tabular}{lllllllllll}\n",
       " Person.ID & Age & Sleep.Duration & Quality.of.Sleep & Physical.Activity.Level & Stress.Level & Systolic.BP & Diastolic.BP & Heart.Rate & Daily.Steps & Sleep.Disorder\\\\\n",
       " <dbl> & <dbl> & <dbl> & <dbl> & <dbl> & <dbl> & <int> & <int> & <dbl> & <dbl> & <chr>\\\\\n",
       "\\hline\n",
       "\t 1 & 27 & 6.1 & 6 & 42 & 6 & 126 & 83 & 77 &  4200 & None       \\\\\n",
       "\t 2 & 28 & 6.2 & 6 & 60 & 8 & 125 & 80 & 75 & 10000 & None       \\\\\n",
       "\t 3 & 28 & 6.2 & 6 & 60 & 8 & 125 & 80 & 75 & 10000 & None       \\\\\n",
       "\t 4 & 28 & 5.9 & 4 & 30 & 8 & 140 & 90 & 85 &  3000 & Sleep Apnea\\\\\n",
       "\t 5 & 28 & 5.9 & 4 & 30 & 8 & 140 & 90 & 85 &  3000 & Sleep Apnea\\\\\n",
       "\t 6 & 28 & 5.9 & 4 & 30 & 8 & 140 & 90 & 85 &  3000 & Insomnia   \\\\\n",
       "\\end{tabular}\n"
      ],
      "text/markdown": [
       "\n",
       "A tibble: 6 × 11\n",
       "\n",
       "| Person.ID &lt;dbl&gt; | Age &lt;dbl&gt; | Sleep.Duration &lt;dbl&gt; | Quality.of.Sleep &lt;dbl&gt; | Physical.Activity.Level &lt;dbl&gt; | Stress.Level &lt;dbl&gt; | Systolic.BP &lt;int&gt; | Diastolic.BP &lt;int&gt; | Heart.Rate &lt;dbl&gt; | Daily.Steps &lt;dbl&gt; | Sleep.Disorder &lt;chr&gt; |\n",
       "|---|---|---|---|---|---|---|---|---|---|---|\n",
       "| 1 | 27 | 6.1 | 6 | 42 | 6 | 126 | 83 | 77 |  4200 | None        |\n",
       "| 2 | 28 | 6.2 | 6 | 60 | 8 | 125 | 80 | 75 | 10000 | None        |\n",
       "| 3 | 28 | 6.2 | 6 | 60 | 8 | 125 | 80 | 75 | 10000 | None        |\n",
       "| 4 | 28 | 5.9 | 4 | 30 | 8 | 140 | 90 | 85 |  3000 | Sleep Apnea |\n",
       "| 5 | 28 | 5.9 | 4 | 30 | 8 | 140 | 90 | 85 |  3000 | Sleep Apnea |\n",
       "| 6 | 28 | 5.9 | 4 | 30 | 8 | 140 | 90 | 85 |  3000 | Insomnia    |\n",
       "\n"
      ],
      "text/plain": [
       "  Person.ID Age Sleep.Duration Quality.of.Sleep Physical.Activity.Level\n",
       "1 1         27  6.1            6                42                     \n",
       "2 2         28  6.2            6                60                     \n",
       "3 3         28  6.2            6                60                     \n",
       "4 4         28  5.9            4                30                     \n",
       "5 5         28  5.9            4                30                     \n",
       "6 6         28  5.9            4                30                     \n",
       "  Stress.Level Systolic.BP Diastolic.BP Heart.Rate Daily.Steps Sleep.Disorder\n",
       "1 6            126         83           77          4200       None          \n",
       "2 8            125         80           75         10000       None          \n",
       "3 8            125         80           75         10000       None          \n",
       "4 8            140         90           85          3000       Sleep Apnea   \n",
       "5 8            140         90           85          3000       Sleep Apnea   \n",
       "6 8            140         90           85          3000       Insomnia      "
      ]
     },
     "metadata": {},
     "output_type": "display_data"
    }
   ],
   "source": [
    "#removing unwanted predictors\n",
    "sleep_data_2 <- sleep_data |>\n",
    "    select(-Gender, -Occupation, -BMI.Category)\n",
    "head(sleep_data_2)"
   ]
  },
  {
   "cell_type": "code",
   "execution_count": 18,
   "id": "bed95030-43ba-4356-9b35-fd85ce28121a",
   "metadata": {},
   "outputs": [
    {
     "data": {
      "text/html": [
       "<table class=\"dataframe\">\n",
       "<caption>A data.frame: 6 × 11</caption>\n",
       "<thead>\n",
       "\t<tr><th></th><th scope=col>Person.ID</th><th scope=col>Age</th><th scope=col>Sleep.Duration</th><th scope=col>Quality.of.Sleep</th><th scope=col>Physical.Activity.Level</th><th scope=col>Stress.Level</th><th scope=col>Systolic.BP</th><th scope=col>Diastolic.BP</th><th scope=col>Heart.Rate</th><th scope=col>Daily.Steps</th><th scope=col>Diagnosis</th></tr>\n",
       "\t<tr><th></th><th scope=col>&lt;dbl&gt;</th><th scope=col>&lt;dbl&gt;</th><th scope=col>&lt;dbl&gt;</th><th scope=col>&lt;dbl&gt;</th><th scope=col>&lt;dbl&gt;</th><th scope=col>&lt;dbl&gt;</th><th scope=col>&lt;int&gt;</th><th scope=col>&lt;int&gt;</th><th scope=col>&lt;dbl&gt;</th><th scope=col>&lt;dbl&gt;</th><th scope=col>&lt;chr&gt;</th></tr>\n",
       "</thead>\n",
       "<tbody>\n",
       "\t<tr><th scope=row>1</th><td> 4</td><td>28</td><td>5.9</td><td>4</td><td>30</td><td>8</td><td>140</td><td>90</td><td>85</td><td>3000</td><td>Sleep Disorder</td></tr>\n",
       "\t<tr><th scope=row>2</th><td> 5</td><td>28</td><td>5.9</td><td>4</td><td>30</td><td>8</td><td>140</td><td>90</td><td>85</td><td>3000</td><td>Sleep Disorder</td></tr>\n",
       "\t<tr><th scope=row>3</th><td>17</td><td>29</td><td>6.5</td><td>5</td><td>40</td><td>7</td><td>132</td><td>87</td><td>80</td><td>4000</td><td>Sleep Disorder</td></tr>\n",
       "\t<tr><th scope=row>4</th><td>18</td><td>29</td><td>6.0</td><td>6</td><td>30</td><td>8</td><td>120</td><td>80</td><td>70</td><td>8000</td><td>Sleep Disorder</td></tr>\n",
       "\t<tr><th scope=row>5</th><td>31</td><td>30</td><td>6.4</td><td>5</td><td>35</td><td>7</td><td>130</td><td>86</td><td>78</td><td>4100</td><td>Sleep Disorder</td></tr>\n",
       "\t<tr><th scope=row>6</th><td>50</td><td>31</td><td>7.7</td><td>7</td><td>75</td><td>6</td><td>120</td><td>80</td><td>70</td><td>8000</td><td>Sleep Disorder</td></tr>\n",
       "</tbody>\n",
       "</table>\n"
      ],
      "text/latex": [
       "A data.frame: 6 × 11\n",
       "\\begin{tabular}{r|lllllllllll}\n",
       "  & Person.ID & Age & Sleep.Duration & Quality.of.Sleep & Physical.Activity.Level & Stress.Level & Systolic.BP & Diastolic.BP & Heart.Rate & Daily.Steps & Diagnosis\\\\\n",
       "  & <dbl> & <dbl> & <dbl> & <dbl> & <dbl> & <dbl> & <int> & <int> & <dbl> & <dbl> & <chr>\\\\\n",
       "\\hline\n",
       "\t1 &  4 & 28 & 5.9 & 4 & 30 & 8 & 140 & 90 & 85 & 3000 & Sleep Disorder\\\\\n",
       "\t2 &  5 & 28 & 5.9 & 4 & 30 & 8 & 140 & 90 & 85 & 3000 & Sleep Disorder\\\\\n",
       "\t3 & 17 & 29 & 6.5 & 5 & 40 & 7 & 132 & 87 & 80 & 4000 & Sleep Disorder\\\\\n",
       "\t4 & 18 & 29 & 6.0 & 6 & 30 & 8 & 120 & 80 & 70 & 8000 & Sleep Disorder\\\\\n",
       "\t5 & 31 & 30 & 6.4 & 5 & 35 & 7 & 130 & 86 & 78 & 4100 & Sleep Disorder\\\\\n",
       "\t6 & 50 & 31 & 7.7 & 7 & 75 & 6 & 120 & 80 & 70 & 8000 & Sleep Disorder\\\\\n",
       "\\end{tabular}\n"
      ],
      "text/markdown": [
       "\n",
       "A data.frame: 6 × 11\n",
       "\n",
       "| <!--/--> | Person.ID &lt;dbl&gt; | Age &lt;dbl&gt; | Sleep.Duration &lt;dbl&gt; | Quality.of.Sleep &lt;dbl&gt; | Physical.Activity.Level &lt;dbl&gt; | Stress.Level &lt;dbl&gt; | Systolic.BP &lt;int&gt; | Diastolic.BP &lt;int&gt; | Heart.Rate &lt;dbl&gt; | Daily.Steps &lt;dbl&gt; | Diagnosis &lt;chr&gt; |\n",
       "|---|---|---|---|---|---|---|---|---|---|---|---|\n",
       "| 1 |  4 | 28 | 5.9 | 4 | 30 | 8 | 140 | 90 | 85 | 3000 | Sleep Disorder |\n",
       "| 2 |  5 | 28 | 5.9 | 4 | 30 | 8 | 140 | 90 | 85 | 3000 | Sleep Disorder |\n",
       "| 3 | 17 | 29 | 6.5 | 5 | 40 | 7 | 132 | 87 | 80 | 4000 | Sleep Disorder |\n",
       "| 4 | 18 | 29 | 6.0 | 6 | 30 | 8 | 120 | 80 | 70 | 8000 | Sleep Disorder |\n",
       "| 5 | 31 | 30 | 6.4 | 5 | 35 | 7 | 130 | 86 | 78 | 4100 | Sleep Disorder |\n",
       "| 6 | 50 | 31 | 7.7 | 7 | 75 | 6 | 120 | 80 | 70 | 8000 | Sleep Disorder |\n",
       "\n"
      ],
      "text/plain": [
       "  Person.ID Age Sleep.Duration Quality.of.Sleep Physical.Activity.Level\n",
       "1  4        28  5.9            4                30                     \n",
       "2  5        28  5.9            4                30                     \n",
       "3 17        29  6.5            5                40                     \n",
       "4 18        29  6.0            6                30                     \n",
       "5 31        30  6.4            5                35                     \n",
       "6 50        31  7.7            7                75                     \n",
       "  Stress.Level Systolic.BP Diastolic.BP Heart.Rate Daily.Steps Diagnosis     \n",
       "1 8            140         90           85         3000        Sleep Disorder\n",
       "2 8            140         90           85         3000        Sleep Disorder\n",
       "3 7            132         87           80         4000        Sleep Disorder\n",
       "4 8            120         80           70         8000        Sleep Disorder\n",
       "5 7            130         86           78         4100        Sleep Disorder\n",
       "6 6            120         80           70         8000        Sleep Disorder"
      ]
     },
     "metadata": {},
     "output_type": "display_data"
    }
   ],
   "source": [
    "#combining 'sleep apnea' and 'insomnia' into 'sleep disorders'\n",
    "sleep_apnea_untidy <- sleep_data_2 |>\n",
    "filter(Sleep.Disorder == \"Sleep Apnea\") |>\n",
    "select(-Sleep.Disorder)\n",
    "sleep_apnea_tidy <- data.frame(sleep_apnea_untidy, Diagnosis = \"Sleep Disorder\")\n",
    "\n",
    "insomnia_untidy <- sleep_data_2 |>\n",
    "filter(Sleep.Disorder == \"Insomnia\") |>\n",
    "select(-Sleep.Disorder)\n",
    "insomnia_tidy <- data.frame(insomnia_untidy, Diagnosis = \"Sleep Disorder\")\n",
    "\n",
    "none_untidy <- sleep_data_2 |>\n",
    "filter(Sleep.Disorder == \"None\") |>\n",
    "select(-Sleep.Disorder)\n",
    "none_tidy <- data.frame(none_untidy, Diagnosis = \"None\")\n",
    "\n",
    "tidy_sleep_data <- rbind(sleep_apnea_tidy, insomnia_tidy, none_tidy)\n",
    "\n",
    "head(tidy_sleep_data)"
   ]
  },
  {
   "cell_type": "code",
   "execution_count": 19,
   "id": "9bd83db3-2ebd-4308-b546-ac72d9464f28",
   "metadata": {},
   "outputs": [],
   "source": [
    "#splitting the data into training and test sets\n",
    "sleep_split <- initial_split(tidy_sleep_data, prop = 0.75, strata = Diagnosis)\n",
    "sleep_train <- training(sleep_split)\n",
    "sleep_test <- testing(sleep_split)"
   ]
  },
  {
   "cell_type": "markdown",
   "id": "af6ba191-eead-42c7-b846-a583cc420202",
   "metadata": {},
   "source": [
    "The table below represents the number of observations and percentages for each class in the training set."
   ]
  },
  {
   "cell_type": "code",
   "execution_count": 20,
   "id": "03d0ed71-d906-44b1-afb0-f053a96ee15a",
   "metadata": {},
   "outputs": [
    {
     "data": {
      "text/html": [
       "<table class=\"dataframe\">\n",
       "<caption>A tibble: 2 × 3</caption>\n",
       "<thead>\n",
       "\t<tr><th scope=col>Diagnosis</th><th scope=col>count</th><th scope=col>percentage</th></tr>\n",
       "\t<tr><th scope=col>&lt;chr&gt;</th><th scope=col>&lt;int&gt;</th><th scope=col>&lt;dbl&gt;</th></tr>\n",
       "</thead>\n",
       "<tbody>\n",
       "\t<tr><td>None          </td><td>164</td><td>58.57143</td></tr>\n",
       "\t<tr><td>Sleep Disorder</td><td>116</td><td>41.42857</td></tr>\n",
       "</tbody>\n",
       "</table>\n"
      ],
      "text/latex": [
       "A tibble: 2 × 3\n",
       "\\begin{tabular}{lll}\n",
       " Diagnosis & count & percentage\\\\\n",
       " <chr> & <int> & <dbl>\\\\\n",
       "\\hline\n",
       "\t None           & 164 & 58.57143\\\\\n",
       "\t Sleep Disorder & 116 & 41.42857\\\\\n",
       "\\end{tabular}\n"
      ],
      "text/markdown": [
       "\n",
       "A tibble: 2 × 3\n",
       "\n",
       "| Diagnosis &lt;chr&gt; | count &lt;int&gt; | percentage &lt;dbl&gt; |\n",
       "|---|---|---|\n",
       "| None           | 164 | 58.57143 |\n",
       "| Sleep Disorder | 116 | 41.42857 |\n",
       "\n"
      ],
      "text/plain": [
       "  Diagnosis      count percentage\n",
       "1 None           164   58.57143  \n",
       "2 Sleep Disorder 116   41.42857  "
      ]
     },
     "metadata": {},
     "output_type": "display_data"
    }
   ],
   "source": [
    "summary_table_1 <- sleep_train |>\n",
    "  group_by(Diagnosis) |>\n",
    "  summarize(count = n(), percentage = n()/nrow(sleep_train)*100)\n",
    "\n",
    "summary_table_1"
   ]
  },
  {
   "cell_type": "markdown",
   "id": "6956aab3-a45e-4587-b1ee-21b7052d0569",
   "metadata": {},
   "source": [
    "The table below represents the means for each predictor in the training set."
   ]
  },
  {
   "cell_type": "code",
   "execution_count": 21,
   "id": "52dd3055-a390-47dc-9e26-f2a0aa926351",
   "metadata": {},
   "outputs": [
    {
     "data": {
      "text/html": [
       "<table class=\"dataframe\">\n",
       "<caption>A data.frame: 1 × 9</caption>\n",
       "<thead>\n",
       "\t<tr><th scope=col>Age</th><th scope=col>Sleep.Duration</th><th scope=col>Quality.of.Sleep</th><th scope=col>Physical.Activity.Level</th><th scope=col>Stress.Level</th><th scope=col>Systolic.BP</th><th scope=col>Diastolic.BP</th><th scope=col>Heart.Rate</th><th scope=col>Daily.Steps</th></tr>\n",
       "\t<tr><th scope=col>&lt;dbl&gt;</th><th scope=col>&lt;dbl&gt;</th><th scope=col>&lt;dbl&gt;</th><th scope=col>&lt;dbl&gt;</th><th scope=col>&lt;dbl&gt;</th><th scope=col>&lt;dbl&gt;</th><th scope=col>&lt;dbl&gt;</th><th scope=col>&lt;dbl&gt;</th><th scope=col>&lt;dbl&gt;</th></tr>\n",
       "</thead>\n",
       "<tbody>\n",
       "\t<tr><td>42.375</td><td>7.157143</td><td>7.346429</td><td>59.87857</td><td>5.346429</td><td>128.4536</td><td>84.65</td><td>70.13929</td><td>6850.357</td></tr>\n",
       "</tbody>\n",
       "</table>\n"
      ],
      "text/latex": [
       "A data.frame: 1 × 9\n",
       "\\begin{tabular}{lllllllll}\n",
       " Age & Sleep.Duration & Quality.of.Sleep & Physical.Activity.Level & Stress.Level & Systolic.BP & Diastolic.BP & Heart.Rate & Daily.Steps\\\\\n",
       " <dbl> & <dbl> & <dbl> & <dbl> & <dbl> & <dbl> & <dbl> & <dbl> & <dbl>\\\\\n",
       "\\hline\n",
       "\t 42.375 & 7.157143 & 7.346429 & 59.87857 & 5.346429 & 128.4536 & 84.65 & 70.13929 & 6850.357\\\\\n",
       "\\end{tabular}\n"
      ],
      "text/markdown": [
       "\n",
       "A data.frame: 1 × 9\n",
       "\n",
       "| Age &lt;dbl&gt; | Sleep.Duration &lt;dbl&gt; | Quality.of.Sleep &lt;dbl&gt; | Physical.Activity.Level &lt;dbl&gt; | Stress.Level &lt;dbl&gt; | Systolic.BP &lt;dbl&gt; | Diastolic.BP &lt;dbl&gt; | Heart.Rate &lt;dbl&gt; | Daily.Steps &lt;dbl&gt; |\n",
       "|---|---|---|---|---|---|---|---|---|\n",
       "| 42.375 | 7.157143 | 7.346429 | 59.87857 | 5.346429 | 128.4536 | 84.65 | 70.13929 | 6850.357 |\n",
       "\n"
      ],
      "text/plain": [
       "  Age    Sleep.Duration Quality.of.Sleep Physical.Activity.Level Stress.Level\n",
       "1 42.375 7.157143       7.346429         59.87857                5.346429    \n",
       "  Systolic.BP Diastolic.BP Heart.Rate Daily.Steps\n",
       "1 128.4536    84.65        70.13929   6850.357   "
      ]
     },
     "metadata": {},
     "output_type": "display_data"
    }
   ],
   "source": [
    "summary_table_2 <- summarize(sleep_train, across(Age:Daily.Steps, mean))\n",
    "summary_table_2"
   ]
  },
  {
   "cell_type": "markdown",
   "id": "3509070f-f606-49bb-9e49-fa269d4fd601",
   "metadata": {},
   "source": [
    "Bar plot comparing mean stress level between those with a sleep disorder or without a sleep disorder."
   ]
  },
  {
   "cell_type": "code",
   "execution_count": 22,
   "id": "c3c0b5d4-93f2-42ac-8566-3bd266fec09d",
   "metadata": {},
   "outputs": [
    {
     "data": {
      "image/png": "[encoded data removed]",
      "text/plain": [
       "plot without title"
      ]
     },
     "metadata": {
      "image/png": {
       "height": 420,
       "width": 480
      }
     },
     "output_type": "display_data"
    }
   ],
   "source": [
    "library(ggplot2)\n",
    "library(repr)\n",
    "library(tidyverse)\n",
    "options(repr.plot.width = 8, repr.plot.height = 7)\n",
    "\n",
    "mean_stress_plot <- sleep_train |>\n",
    "        ggplot(aes(x = Diagnosis, fill = Diagnosis))+\n",
    "        geom_bar()+\n",
    "        labs(x = \"Diagnosis\", y = \"Stress Level\")+\n",
    "        theme(text = element_text(size = 20))+\n",
    "        ggtitle(\"Mean Stress Level vs Sleep Disorder Diagnosis\")\n",
    "mean_stress_plot\n",
    "        "
   ]
  },
  {
   "cell_type": "code",
   "execution_count": null,
   "id": "0997030c-b236-417a-a15d-8308455d87c0",
   "metadata": {},
   "outputs": [],
   "source": []
  }
 ],
 "metadata": {
  "kernelspec": {
   "display_name": "R",
   "language": "R",
   "name": "ir"
  },
  "language_info": {
   "codemirror_mode": "r",
   "file_extension": ".r",
   "mimetype": "text/x-r-source",
   "name": "R",
   "pygments_lexer": "r",
   "version": "4.1.3"
  }
 },
 "nbformat": 4,
 "nbformat_minor": 5
}
